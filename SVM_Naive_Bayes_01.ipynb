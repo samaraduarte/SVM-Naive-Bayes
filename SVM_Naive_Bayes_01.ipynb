{
 "cells": [
  {
   "cell_type": "markdown",
   "metadata": {
    "id": "v43Lfjgbfyd0"
   },
   "source": [
    "### SVM_Naive_Bayes_01\n",
    "\n",
    "#### Disciplina Inteligência Artificial\n",
    "\n",
    "#### Prof: José Humberto Cruvinel\n"
   ]
  },
  {
   "cell_type": "code",
   "execution_count": 1,
   "metadata": {
    "executionInfo": {
     "elapsed": 2271,
     "status": "ok",
     "timestamp": 1607696976216,
     "user": {
      "displayName": "Samara de Jesus Duarte",
      "photoUrl": "",
      "userId": "06237302674846274131"
     },
     "user_tz": 180
    },
    "id": "YXN0GEzN5pgL"
   },
   "outputs": [],
   "source": [
    "# Carregando Bibliotecas Python\n",
    "import numpy as np\n",
    "import pandas as pd\n",
    "import matplotlib.pyplot as plt\n",
    "import matplotlib as mpl\n",
    "import seaborn as sns\n",
    "from sklearn import svm\n",
    "%matplotlib inline "
   ]
  },
  {
   "cell_type": "code",
   "execution_count": 2,
   "metadata": {
    "colab": {
     "base_uri": "https://localhost:8080/",
     "height": 218
    },
    "executionInfo": {
     "elapsed": 2236,
     "status": "ok",
     "timestamp": 1607696976218,
     "user": {
      "displayName": "Samara de Jesus Duarte",
      "photoUrl": "",
      "userId": "06237302674846274131"
     },
     "user_tz": 180
    },
    "id": "qbadPaSD5srF",
    "outputId": "60177e80-c73b-495e-e1ac-e456d602eb37"
   },
   "outputs": [
    {
     "data": {
      "text/html": [
       "<div>\n",
       "<style scoped>\n",
       "    .dataframe tbody tr th:only-of-type {\n",
       "        vertical-align: middle;\n",
       "    }\n",
       "\n",
       "    .dataframe tbody tr th {\n",
       "        vertical-align: top;\n",
       "    }\n",
       "\n",
       "    .dataframe thead th {\n",
       "        text-align: right;\n",
       "    }\n",
       "</style>\n",
       "<table border=\"1\" class=\"dataframe\">\n",
       "  <thead>\n",
       "    <tr style=\"text-align: right;\">\n",
       "      <th></th>\n",
       "      <th>alcohol</th>\n",
       "      <th>malic_acid</th>\n",
       "      <th>ash</th>\n",
       "      <th>alcalinity_of_ash</th>\n",
       "      <th>magnesium</th>\n",
       "      <th>total_phenols</th>\n",
       "      <th>flavanoids</th>\n",
       "      <th>nonflavanoid_phenols</th>\n",
       "      <th>proanthocyanins</th>\n",
       "      <th>color_intensity</th>\n",
       "      <th>hue</th>\n",
       "      <th>od280/od315_of_diluted_wines</th>\n",
       "      <th>proline</th>\n",
       "      <th>Target</th>\n",
       "      <th>Target_Name</th>\n",
       "    </tr>\n",
       "  </thead>\n",
       "  <tbody>\n",
       "    <tr>\n",
       "      <th>0</th>\n",
       "      <td>14.23</td>\n",
       "      <td>1.71</td>\n",
       "      <td>2.43</td>\n",
       "      <td>15.6</td>\n",
       "      <td>127.0</td>\n",
       "      <td>2.80</td>\n",
       "      <td>3.06</td>\n",
       "      <td>0.28</td>\n",
       "      <td>2.29</td>\n",
       "      <td>5.64</td>\n",
       "      <td>1.04</td>\n",
       "      <td>3.92</td>\n",
       "      <td>1065.0</td>\n",
       "      <td>0</td>\n",
       "      <td>class_0</td>\n",
       "    </tr>\n",
       "    <tr>\n",
       "      <th>1</th>\n",
       "      <td>13.20</td>\n",
       "      <td>1.78</td>\n",
       "      <td>2.14</td>\n",
       "      <td>11.2</td>\n",
       "      <td>100.0</td>\n",
       "      <td>2.65</td>\n",
       "      <td>2.76</td>\n",
       "      <td>0.26</td>\n",
       "      <td>1.28</td>\n",
       "      <td>4.38</td>\n",
       "      <td>1.05</td>\n",
       "      <td>3.40</td>\n",
       "      <td>1050.0</td>\n",
       "      <td>0</td>\n",
       "      <td>class_0</td>\n",
       "    </tr>\n",
       "    <tr>\n",
       "      <th>2</th>\n",
       "      <td>13.16</td>\n",
       "      <td>2.36</td>\n",
       "      <td>2.67</td>\n",
       "      <td>18.6</td>\n",
       "      <td>101.0</td>\n",
       "      <td>2.80</td>\n",
       "      <td>3.24</td>\n",
       "      <td>0.30</td>\n",
       "      <td>2.81</td>\n",
       "      <td>5.68</td>\n",
       "      <td>1.03</td>\n",
       "      <td>3.17</td>\n",
       "      <td>1185.0</td>\n",
       "      <td>0</td>\n",
       "      <td>class_0</td>\n",
       "    </tr>\n",
       "    <tr>\n",
       "      <th>3</th>\n",
       "      <td>14.37</td>\n",
       "      <td>1.95</td>\n",
       "      <td>2.50</td>\n",
       "      <td>16.8</td>\n",
       "      <td>113.0</td>\n",
       "      <td>3.85</td>\n",
       "      <td>3.49</td>\n",
       "      <td>0.24</td>\n",
       "      <td>2.18</td>\n",
       "      <td>7.80</td>\n",
       "      <td>0.86</td>\n",
       "      <td>3.45</td>\n",
       "      <td>1480.0</td>\n",
       "      <td>0</td>\n",
       "      <td>class_0</td>\n",
       "    </tr>\n",
       "    <tr>\n",
       "      <th>4</th>\n",
       "      <td>13.24</td>\n",
       "      <td>2.59</td>\n",
       "      <td>2.87</td>\n",
       "      <td>21.0</td>\n",
       "      <td>118.0</td>\n",
       "      <td>2.80</td>\n",
       "      <td>2.69</td>\n",
       "      <td>0.39</td>\n",
       "      <td>1.82</td>\n",
       "      <td>4.32</td>\n",
       "      <td>1.04</td>\n",
       "      <td>2.93</td>\n",
       "      <td>735.0</td>\n",
       "      <td>0</td>\n",
       "      <td>class_0</td>\n",
       "    </tr>\n",
       "  </tbody>\n",
       "</table>\n",
       "</div>"
      ],
      "text/plain": [
       "   alcohol  malic_acid   ash  ...  proline  Target  Target_Name\n",
       "0    14.23        1.71  2.43  ...   1065.0       0      class_0\n",
       "1    13.20        1.78  2.14  ...   1050.0       0      class_0\n",
       "2    13.16        2.36  2.67  ...   1185.0       0      class_0\n",
       "3    14.37        1.95  2.50  ...   1480.0       0      class_0\n",
       "4    13.24        2.59  2.87  ...    735.0       0      class_0\n",
       "\n",
       "[5 rows x 15 columns]"
      ]
     },
     "execution_count": 2,
     "metadata": {
      "tags": []
     },
     "output_type": "execute_result"
    }
   ],
   "source": [
    "from sklearn.datasets import load_wine\n",
    "wine = load_wine()\n",
    "# Convertendo para dataframe do Pandas\n",
    "df = pd.DataFrame(wine.data)\n",
    "df.columns = wine.feature_names\n",
    "# Adicionando as colunas Target e Target_Name\n",
    "df['Target'] = wine.target\n",
    "df['Target_Name'] = df.apply(lambda row: wine.target_names[int(row.Target)], axis=1)\n",
    "df.head()\n"
   ]
  },
  {
   "cell_type": "code",
   "execution_count": 3,
   "metadata": {
    "colab": {
     "base_uri": "https://localhost:8080/"
    },
    "executionInfo": {
     "elapsed": 2229,
     "status": "ok",
     "timestamp": 1607696976220,
     "user": {
      "displayName": "Samara de Jesus Duarte",
      "photoUrl": "",
      "userId": "06237302674846274131"
     },
     "user_tz": 180
    },
    "id": "hf0j_s327FAY",
    "outputId": "5d866f3a-a33e-4e97-a515-bd694f3c7a1c"
   },
   "outputs": [
    {
     "data": {
      "text/plain": [
       "1    71\n",
       "0    59\n",
       "2    48\n",
       "Name: Target, dtype: int64"
      ]
     },
     "execution_count": 3,
     "metadata": {
      "tags": []
     },
     "output_type": "execute_result"
    }
   ],
   "source": [
    "df['Target'].value_counts()"
   ]
  },
  {
   "cell_type": "code",
   "execution_count": 4,
   "metadata": {
    "executionInfo": {
     "elapsed": 2227,
     "status": "ok",
     "timestamp": 1607696976221,
     "user": {
      "displayName": "Samara de Jesus Duarte",
      "photoUrl": "",
      "userId": "06237302674846274131"
     },
     "user_tz": 180
    },
    "id": "Bk8KzUJO6axT"
   },
   "outputs": [],
   "source": [
    "X = df.iloc[:,:-1]\n",
    "y = df['Target'].values"
   ]
  },
  {
   "cell_type": "code",
   "execution_count": 5,
   "metadata": {
    "colab": {
     "base_uri": "https://localhost:8080/"
    },
    "executionInfo": {
     "elapsed": 2220,
     "status": "ok",
     "timestamp": 1607696976222,
     "user": {
      "displayName": "Samara de Jesus Duarte",
      "photoUrl": "",
      "userId": "06237302674846274131"
     },
     "user_tz": 180
    },
    "id": "Menf4jyP7MvL",
    "outputId": "96569987-f503-444c-cc2d-1397b004b3d2"
   },
   "outputs": [
    {
     "data": {
      "text/plain": [
       "array([0, 0, 0, 0, 0, 0, 0, 0, 0, 0, 0, 0, 0, 0, 0, 0, 0, 0, 0, 0, 0, 0,\n",
       "       0, 0, 0, 0, 0, 0, 0, 0, 0, 0, 0, 0, 0, 0, 0, 0, 0, 0, 0, 0, 0, 0,\n",
       "       0, 0, 0, 0, 0, 0, 0, 0, 0, 0, 0, 0, 0, 0, 0, 1, 1, 1, 1, 1, 1, 1,\n",
       "       1, 1, 1, 1, 1, 1, 1, 1, 1, 1, 1, 1, 1, 1, 1, 1, 1, 1, 1, 1, 1, 1,\n",
       "       1, 1, 1, 1, 1, 1, 1, 1, 1, 1, 1, 1, 1, 1, 1, 1, 1, 1, 1, 1, 1, 1,\n",
       "       1, 1, 1, 1, 1, 1, 1, 1, 1, 1, 1, 1, 1, 1, 1, 1, 1, 1, 1, 1, 2, 2,\n",
       "       2, 2, 2, 2, 2, 2, 2, 2, 2, 2, 2, 2, 2, 2, 2, 2, 2, 2, 2, 2, 2, 2,\n",
       "       2, 2, 2, 2, 2, 2, 2, 2, 2, 2, 2, 2, 2, 2, 2, 2, 2, 2, 2, 2, 2, 2,\n",
       "       2, 2])"
      ]
     },
     "execution_count": 5,
     "metadata": {
      "tags": []
     },
     "output_type": "execute_result"
    }
   ],
   "source": [
    "y"
   ]
  },
  {
   "cell_type": "code",
   "execution_count": 6,
   "metadata": {
    "colab": {
     "base_uri": "https://localhost:8080/"
    },
    "executionInfo": {
     "elapsed": 2213,
     "status": "ok",
     "timestamp": 1607696976223,
     "user": {
      "displayName": "Samara de Jesus Duarte",
      "photoUrl": "",
      "userId": "06237302674846274131"
     },
     "user_tz": 180
    },
    "id": "28ZrTpci7UGP",
    "outputId": "40389780-6c23-425e-9e18-80818a99760c"
   },
   "outputs": [
    {
     "name": "stdout",
     "output_type": "stream",
     "text": [
      "X_train: (142, 14)\n",
      "y_train: (142,)\n",
      "X_test: (36, 14)\n",
      "y_test: (36,)\n"
     ]
    }
   ],
   "source": [
    "# Separação entre os dados de treino e teste\n",
    "from sklearn.model_selection import train_test_split\n",
    "X_train, X_test, y_train, y_test = train_test_split (X , y, test_size=0.2, random_state=50)\n",
    "print('X_train:',X_train.shape)\n",
    "print('y_train:',y_train.shape)\n",
    "print('X_test:',X_test.shape)\n",
    "print('y_test:',y_test.shape)"
   ]
  },
  {
   "cell_type": "code",
   "execution_count": 7,
   "metadata": {
    "colab": {
     "base_uri": "https://localhost:8080/"
    },
    "executionInfo": {
     "elapsed": 6834,
     "status": "ok",
     "timestamp": 1607696980852,
     "user": {
      "displayName": "Samara de Jesus Duarte",
      "photoUrl": "",
      "userId": "06237302674846274131"
     },
     "user_tz": 180
    },
    "id": "xk1GO2o_7gSn",
    "outputId": "84e426b5-e05f-47f6-a49d-cd3fae291a27"
   },
   "outputs": [
    {
     "name": "stdout",
     "output_type": "stream",
     "text": [
      "Collecting scikit-plot\n",
      "  Downloading https://files.pythonhosted.org/packages/7c/47/32520e259340c140a4ad27c1b97050dd3254fdc517b1d59974d47037510e/scikit_plot-0.3.7-py3-none-any.whl\n",
      "Requirement already satisfied: matplotlib>=1.4.0 in /usr/local/lib/python3.6/dist-packages (from scikit-plot) (3.2.2)\n",
      "Requirement already satisfied: scipy>=0.9 in /usr/local/lib/python3.6/dist-packages (from scikit-plot) (1.4.1)\n",
      "Requirement already satisfied: scikit-learn>=0.18 in /usr/local/lib/python3.6/dist-packages (from scikit-plot) (0.22.2.post1)\n",
      "Requirement already satisfied: joblib>=0.10 in /usr/local/lib/python3.6/dist-packages (from scikit-plot) (0.17.0)\n",
      "Requirement already satisfied: cycler>=0.10 in /usr/local/lib/python3.6/dist-packages (from matplotlib>=1.4.0->scikit-plot) (0.10.0)\n",
      "Requirement already satisfied: pyparsing!=2.0.4,!=2.1.2,!=2.1.6,>=2.0.1 in /usr/local/lib/python3.6/dist-packages (from matplotlib>=1.4.0->scikit-plot) (2.4.7)\n",
      "Requirement already satisfied: kiwisolver>=1.0.1 in /usr/local/lib/python3.6/dist-packages (from matplotlib>=1.4.0->scikit-plot) (1.3.1)\n",
      "Requirement already satisfied: numpy>=1.11 in /usr/local/lib/python3.6/dist-packages (from matplotlib>=1.4.0->scikit-plot) (1.18.5)\n",
      "Requirement already satisfied: python-dateutil>=2.1 in /usr/local/lib/python3.6/dist-packages (from matplotlib>=1.4.0->scikit-plot) (2.8.1)\n",
      "Requirement already satisfied: six in /usr/local/lib/python3.6/dist-packages (from cycler>=0.10->matplotlib>=1.4.0->scikit-plot) (1.15.0)\n",
      "Installing collected packages: scikit-plot\n",
      "Successfully installed scikit-plot-0.3.7\n"
     ]
    }
   ],
   "source": [
    "!pip install scikit-plot\n",
    "from sklearn.metrics import plot_confusion_matrix\n",
    "from sklearn.metrics import accuracy_score, precision_score, recall_score, f1_score\n",
    "from scikitplot.metrics import plot_roc\n",
    "# Criando funcao para imprimir resultados\n",
    "def show_results(model, X_test, y_test):\n",
    "  # Modelo 1\n",
    "  y_pred = model.predict(X_test)\n",
    "  print('Shape y_pred:',y_pred.shape)\n",
    "  # Imprimindo o Score para os dados de teste\n",
    "  print (\"Accuracy is \", accuracy_score(y_test,y_pred)*100)\n",
    "  # Medidas de desempenho\n",
    "  print(\"Accuracy:\",accuracy_score(y_pred,y_test))\n",
    "  print(\"Precision:\",precision_score(y_pred,y_test,average='weighted'))\n",
    "  print(\"Recall:\",recall_score(y_pred,y_test,average='weighted'))\n",
    "  print(\"F1 Score:\",f1_score(y_pred,y_test,average='weighted'))\n",
    "  # Imprimindo a matriz de confusão\n",
    "  plot_confusion_matrix(model, X_test, y_test)\n",
    "  try:\n",
    "    plt.show()\n",
    "    # Plotando a curva ROC para os dados de teste\n",
    "    y_probas = model.predict_proba(X_test)\n",
    "    plot_roc(y_test, y_probas, figsize=(10, 8))   \n",
    "    plt.show()\n",
    "  except AttributeError:\n",
    "    print('ROC indisponivel')"
   ]
  },
  {
   "cell_type": "code",
   "execution_count": 8,
   "metadata": {
    "colab": {
     "base_uri": "https://localhost:8080/",
     "height": 406
    },
    "executionInfo": {
     "elapsed": 6825,
     "status": "ok",
     "timestamp": 1607696980853,
     "user": {
      "displayName": "Samara de Jesus Duarte",
      "photoUrl": "",
      "userId": "06237302674846274131"
     },
     "user_tz": 180
    },
    "id": "ZlLp0XbV7mMl",
    "outputId": "683e3f59-5fde-4a19-f65a-3af853bfec2f"
   },
   "outputs": [
    {
     "name": "stdout",
     "output_type": "stream",
     "text": [
      "Shape y_pred: (36,)\n",
      "Accuracy is  97.22222222222221\n",
      "Accuracy: 0.9722222222222222\n",
      "Precision: 0.9742063492063492\n",
      "Recall: 0.9722222222222222\n",
      "F1 Score: 0.9722222222222222\n"
     ]
    },
    {
     "data": {
      "image/png": "[encoded data removed]",
      "text/plain": [
       "<Figure size 432x288 with 2 Axes>"
      ]
     },
     "metadata": {
      "needs_background": "light",
      "tags": []
     },
     "output_type": "display_data"
    },
    {
     "name": "stdout",
     "output_type": "stream",
     "text": [
      "ROC indisponivel\n"
     ]
    }
   ],
   "source": [
    "# Criando 4 modelos diferentes de SVM (Suport Vector Machine)\n",
    "svm_1 = svm.SVC(kernel='linear').fit(X_train, y_train)\n",
    "show_results(svm_1, X_test, y_test)"
   ]
  },
  {
   "cell_type": "code",
   "execution_count": 9,
   "metadata": {
    "colab": {
     "base_uri": "https://localhost:8080/",
     "height": 466
    },
    "executionInfo": {
     "elapsed": 6818,
     "status": "ok",
     "timestamp": 1607696980855,
     "user": {
      "displayName": "Samara de Jesus Duarte",
      "photoUrl": "",
      "userId": "06237302674846274131"
     },
     "user_tz": 180
    },
    "id": "P-k9OuIk7qiL",
    "outputId": "d96fbcf3-baed-4bef-cef3-cbc9d1e2d040"
   },
   "outputs": [
    {
     "name": "stdout",
     "output_type": "stream",
     "text": [
      "Shape y_pred: (36,)\n",
      "Accuracy is  83.33333333333334\n",
      "Accuracy: 0.8333333333333334\n",
      "Precision: 0.8898385565052231\n",
      "Recall: 0.8333333333333334\n",
      "F1 Score: 0.8359788359788359\n"
     ]
    },
    {
     "name": "stderr",
     "output_type": "stream",
     "text": [
      "/usr/local/lib/python3.6/dist-packages/sklearn/svm/_base.py:947: ConvergenceWarning: Liblinear failed to converge, increase the number of iterations.\n",
      "  \"the number of iterations.\", ConvergenceWarning)\n"
     ]
    },
    {
     "data": {
      "image/png": "[encoded data removed]",
      "text/plain": [
       "<Figure size 432x288 with 2 Axes>"
      ]
     },
     "metadata": {
      "needs_background": "light",
      "tags": []
     },
     "output_type": "display_data"
    },
    {
     "name": "stdout",
     "output_type": "stream",
     "text": [
      "ROC indisponivel\n"
     ]
    }
   ],
   "source": [
    "svm_2 = svm.LinearSVC().fit(X_train, y_train)\n",
    "show_results(svm_2, X_test, y_test)"
   ]
  },
  {
   "cell_type": "code",
   "execution_count": 10,
   "metadata": {
    "colab": {
     "base_uri": "https://localhost:8080/",
     "height": 466
    },
    "executionInfo": {
     "elapsed": 6809,
     "status": "ok",
     "timestamp": 1607696980856,
     "user": {
      "displayName": "Samara de Jesus Duarte",
      "photoUrl": "",
      "userId": "06237302674846274131"
     },
     "user_tz": 180
    },
    "id": "cu9hnX2Z7y01",
    "outputId": "519a3966-a228-47e9-9eac-201a0a01a2e8"
   },
   "outputs": [
    {
     "name": "stderr",
     "output_type": "stream",
     "text": [
      "/usr/local/lib/python3.6/dist-packages/sklearn/metrics/_classification.py:1272: UndefinedMetricWarning: Recall is ill-defined and being set to 0.0 in labels with no true samples. Use `zero_division` parameter to control this behavior.\n",
      "  _warn_prf(average, modifier, msg_start, len(result))\n"
     ]
    },
    {
     "name": "stdout",
     "output_type": "stream",
     "text": [
      "Shape y_pred: (36,)\n",
      "Accuracy is  38.88888888888889\n",
      "Accuracy: 0.3888888888888889\n",
      "Precision: 1.0\n",
      "Recall: 0.3888888888888889\n",
      "F1 Score: 0.56\n"
     ]
    },
    {
     "data": {
      "image/png": "[encoded data removed]",
      "text/plain": [
       "<Figure size 432x288 with 2 Axes>"
      ]
     },
     "metadata": {
      "needs_background": "light",
      "tags": []
     },
     "output_type": "display_data"
    },
    {
     "name": "stdout",
     "output_type": "stream",
     "text": [
      "ROC indisponivel\n"
     ]
    }
   ],
   "source": [
    "svm_3 = svm.SVC(kernel='rbf', gamma=0.7).fit(X_train, y_train)\n",
    "show_results(svm_3, X_test, y_test)"
   ]
  },
  {
   "cell_type": "code",
   "execution_count": 11,
   "metadata": {
    "colab": {
     "base_uri": "https://localhost:8080/",
     "height": 406
    },
    "executionInfo": {
     "elapsed": 6801,
     "status": "ok",
     "timestamp": 1607696980857,
     "user": {
      "displayName": "Samara de Jesus Duarte",
      "photoUrl": "",
      "userId": "06237302674846274131"
     },
     "user_tz": 180
    },
    "id": "82rURoWO7zCM",
    "outputId": "8f49b8d7-1101-4f8d-bd34-baa1662fb046"
   },
   "outputs": [
    {
     "name": "stdout",
     "output_type": "stream",
     "text": [
      "Shape y_pred: (36,)\n",
      "Accuracy is  63.888888888888886\n",
      "Accuracy: 0.6388888888888888\n",
      "Precision: 0.7129290462623796\n",
      "Recall: 0.6388888888888888\n",
      "F1 Score: 0.6552658942364826\n"
     ]
    },
    {
     "data": {
      "image/png": "[encoded data removed]",
      "text/plain": [
       "<Figure size 432x288 with 2 Axes>"
      ]
     },
     "metadata": {
      "needs_background": "light",
      "tags": []
     },
     "output_type": "display_data"
    },
    {
     "name": "stdout",
     "output_type": "stream",
     "text": [
      "ROC indisponivel\n"
     ]
    }
   ],
   "source": [
    "svm_4 = svm.SVC(kernel='poly', degree=3).fit(X_train, y_train)\n",
    "show_results(svm_4, X_test, y_test)"
   ]
  },
  {
   "cell_type": "markdown",
   "metadata": {
    "id": "XgmDAI4GyGCw"
   },
   "source": [
    "## Uso de Naive Bayes"
   ]
  },
  {
   "cell_type": "code",
   "execution_count": 12,
   "metadata": {
    "colab": {
     "base_uri": "https://localhost:8080/",
     "height": 888
    },
    "executionInfo": {
     "elapsed": 7227,
     "status": "ok",
     "timestamp": 1607696981293,
     "user": {
      "displayName": "Samara de Jesus Duarte",
      "photoUrl": "",
      "userId": "06237302674846274131"
     },
     "user_tz": 180
    },
    "id": "sNwQyD348PQV",
    "outputId": "0f5dff49-dfe7-4475-f33c-8f2c6257a4f9"
   },
   "outputs": [
    {
     "name": "stdout",
     "output_type": "stream",
     "text": [
      "Shape y_pred: (36,)\n",
      "Accuracy is  100.0\n",
      "Accuracy: 1.0\n",
      "Precision: 1.0\n",
      "Recall: 1.0\n",
      "F1 Score: 1.0\n"
     ]
    },
    {
     "data": {
      "image/png": "[encoded data removed]",
      "text/plain": [
       "<Figure size 432x288 with 2 Axes>"
      ]
     },
     "metadata": {
      "needs_background": "light",
      "tags": []
     },
     "output_type": "display_data"
    },
    {
     "data": {
      "image/png": "[encoded data removed]",
      "text/plain": [
       "<Figure size 720x576 with 1 Axes>"
      ]
     },
     "metadata": {
      "needs_background": "light",
      "tags": []
     },
     "output_type": "display_data"
    }
   ],
   "source": [
    "# Agora vamos comparar com Naive Bayes\n",
    "from sklearn.naive_bayes import GaussianNB\n",
    "nb = GaussianNB().fit(X, y)\n",
    "show_results(nb, X_test, y_test)"
   ]
  }
 ],
 "metadata": {
  "colab": {
   "collapsed_sections": [],
   "name": "Aula05_Parte3_SVM_Naive_Bayes_01.ipynb",
   "provenance": []
  },
  "kernelspec": {
   "display_name": "Python 3",
   "language": "python",
   "name": "python3"
  },
  "language_info": {
   "codemirror_mode": {
    "name": "ipython",
    "version": 3
   },
   "file_extension": ".py",
   "mimetype": "text/x-python",
   "name": "python",
   "nbconvert_exporter": "python",
   "pygments_lexer": "ipython3",
   "version": "3.8.5"
  }
 },
 "nbformat": 4,
 "nbformat_minor": 1
}
