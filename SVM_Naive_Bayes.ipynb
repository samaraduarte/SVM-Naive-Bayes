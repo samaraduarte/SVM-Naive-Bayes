{
 "cells": [
  {
   "cell_type": "markdown",
   "metadata": {
    "id": "gkOlO6XIE0pA"
   },
   "source": [
    "### SVM_Naive_Bayes\n",
    "\n",
    "#### Disciplina Inteligência Artificial\n",
    "\n",
    "#### Prof: José Humberto Cruvinel\n",
    "\n",
    "#### Nome dos alunos:\n",
    "\n",
    "* Samara de Jesus Duarte\n",
    "\n",
    "\n",
    "Neste jupyter vamos criar 4 modelos SVM (Support Vector Machine) e um modelo Naive Bayes para classificar espécies de flores Iris.\n",
    "\n",
    "Dataset: https://archive.ics.uci.edu/ml/datasets/iris\n",
    "\n",
    "Este jupyter notebook deve ser executado no Google Colab (https://colab.research.google.com/) "
   ]
  },
  {
   "cell_type": "code",
   "execution_count": 25,
   "metadata": {
    "executionInfo": {
     "elapsed": 770,
     "status": "ok",
     "timestamp": 1607697935606,
     "user": {
      "displayName": "Samara de Jesus Duarte",
      "photoUrl": "",
      "userId": "06237302674846274131"
     },
     "user_tz": 180
    },
    "id": "H7vEcHx_WxTG"
   },
   "outputs": [],
   "source": [
    "# Carregando Bibliotecas Python\n",
    "import numpy as np\n",
    "import pandas as pd\n",
    "import matplotlib.pyplot as plt\n",
    "import matplotlib as mpl\n",
    "import seaborn as sns\n",
    "from sklearn import svm\n",
    "%matplotlib inline "
   ]
  },
  {
   "cell_type": "markdown",
   "metadata": {
    "id": "V-v9LUKUb7qC"
   },
   "source": [
    "## Carregando o dataset"
   ]
  },
  {
   "cell_type": "code",
   "execution_count": 26,
   "metadata": {
    "colab": {
     "base_uri": "https://localhost:8080/",
     "height": 198
    },
    "executionInfo": {
     "elapsed": 1084,
     "status": "ok",
     "timestamp": 1607697935941,
     "user": {
      "displayName": "Samara de Jesus Duarte",
      "photoUrl": "",
      "userId": "06237302674846274131"
     },
     "user_tz": 180
    },
    "id": "RtnWJE2zzKCA",
    "outputId": "0eb9fb4d-0382-4ecf-ed68-b7b95af05ea0"
   },
   "outputs": [
    {
     "data": {
      "text/html": [
       "<div>\n",
       "<style scoped>\n",
       "    .dataframe tbody tr th:only-of-type {\n",
       "        vertical-align: middle;\n",
       "    }\n",
       "\n",
       "    .dataframe tbody tr th {\n",
       "        vertical-align: top;\n",
       "    }\n",
       "\n",
       "    .dataframe thead th {\n",
       "        text-align: right;\n",
       "    }\n",
       "</style>\n",
       "<table border=\"1\" class=\"dataframe\">\n",
       "  <thead>\n",
       "    <tr style=\"text-align: right;\">\n",
       "      <th></th>\n",
       "      <th>sepal length (cm)</th>\n",
       "      <th>sepal width (cm)</th>\n",
       "      <th>petal length (cm)</th>\n",
       "      <th>petal width (cm)</th>\n",
       "      <th>Target</th>\n",
       "      <th>Target_Name</th>\n",
       "    </tr>\n",
       "  </thead>\n",
       "  <tbody>\n",
       "    <tr>\n",
       "      <th>0</th>\n",
       "      <td>5.1</td>\n",
       "      <td>3.5</td>\n",
       "      <td>1.4</td>\n",
       "      <td>0.2</td>\n",
       "      <td>0</td>\n",
       "      <td>setosa</td>\n",
       "    </tr>\n",
       "    <tr>\n",
       "      <th>1</th>\n",
       "      <td>4.9</td>\n",
       "      <td>3.0</td>\n",
       "      <td>1.4</td>\n",
       "      <td>0.2</td>\n",
       "      <td>0</td>\n",
       "      <td>setosa</td>\n",
       "    </tr>\n",
       "    <tr>\n",
       "      <th>2</th>\n",
       "      <td>4.7</td>\n",
       "      <td>3.2</td>\n",
       "      <td>1.3</td>\n",
       "      <td>0.2</td>\n",
       "      <td>0</td>\n",
       "      <td>setosa</td>\n",
       "    </tr>\n",
       "    <tr>\n",
       "      <th>3</th>\n",
       "      <td>4.6</td>\n",
       "      <td>3.1</td>\n",
       "      <td>1.5</td>\n",
       "      <td>0.2</td>\n",
       "      <td>0</td>\n",
       "      <td>setosa</td>\n",
       "    </tr>\n",
       "    <tr>\n",
       "      <th>4</th>\n",
       "      <td>5.0</td>\n",
       "      <td>3.6</td>\n",
       "      <td>1.4</td>\n",
       "      <td>0.2</td>\n",
       "      <td>0</td>\n",
       "      <td>setosa</td>\n",
       "    </tr>\n",
       "  </tbody>\n",
       "</table>\n",
       "</div>"
      ],
      "text/plain": [
       "   sepal length (cm)  sepal width (cm)  ...  Target  Target_Name\n",
       "0                5.1               3.5  ...       0       setosa\n",
       "1                4.9               3.0  ...       0       setosa\n",
       "2                4.7               3.2  ...       0       setosa\n",
       "3                4.6               3.1  ...       0       setosa\n",
       "4                5.0               3.6  ...       0       setosa\n",
       "\n",
       "[5 rows x 6 columns]"
      ]
     },
     "execution_count": 26,
     "metadata": {
      "tags": []
     },
     "output_type": "execute_result"
    }
   ],
   "source": [
    "# Importando o dataset iris\n",
    "from sklearn.datasets import load_iris\n",
    "iris = load_iris()\n",
    "# Convertendo para dataframe do Pandas\n",
    "df = pd.DataFrame(iris.data)\n",
    "df.columns = iris.feature_names\n",
    "# Adicionando as colunas Target e Target_Name\n",
    "df['Target'] = iris.target\n",
    "df['Target_Name'] = df.apply(lambda row: iris.target_names[int(row.Target)], axis=1)\n",
    "df.head()"
   ]
  },
  {
   "cell_type": "markdown",
   "metadata": {
    "id": "qJ-EEv8MtQoY"
   },
   "source": [
    "## Explorando os dados"
   ]
  },
  {
   "cell_type": "code",
   "execution_count": 27,
   "metadata": {
    "colab": {
     "base_uri": "https://localhost:8080/",
     "height": 295
    },
    "executionInfo": {
     "elapsed": 1646,
     "status": "ok",
     "timestamp": 1607697936512,
     "user": {
      "displayName": "Samara de Jesus Duarte",
      "photoUrl": "",
      "userId": "06237302674846274131"
     },
     "user_tz": 180
    },
    "id": "0jngXr2EtPUT",
    "outputId": "b7359b20-fcaf-49b5-b456-8b1f09a4eda8"
   },
   "outputs": [
    {
     "data": {
      "image/png": "[encoded data removed]",
      "text/plain": [
       "<Figure size 432x288 with 1 Axes>"
      ]
     },
     "metadata": {
      "needs_background": "light",
      "tags": []
     },
     "output_type": "display_data"
    }
   ],
   "source": [
    "# Visualizando a relação sépala\n",
    "def visualize_sepal_data():\n",
    "    X = iris.data[:, :2]  \n",
    "    y = iris.target\n",
    "    plt.scatter(X[:, 0], X[:, 1], c=y, cmap=plt.cm.coolwarm)\n",
    "    plt.xlabel('Comprimento')\n",
    "    plt.ylabel('Largura ')\n",
    "    plt.title('Sépala')\n",
    "    plt.show()\n",
    " \n",
    "visualize_sepal_data()"
   ]
  },
  {
   "cell_type": "code",
   "execution_count": 28,
   "metadata": {
    "colab": {
     "base_uri": "https://localhost:8080/",
     "height": 295
    },
    "executionInfo": {
     "elapsed": 1637,
     "status": "ok",
     "timestamp": 1607697936513,
     "user": {
      "displayName": "Samara de Jesus Duarte",
      "photoUrl": "",
      "userId": "06237302674846274131"
     },
     "user_tz": 180
    },
    "id": "BGG9QZLVtZdg",
    "outputId": "eb28a1b5-42ac-48a6-bf30-057affeca73e"
   },
   "outputs": [
    {
     "data": {
      "image/png": "[encoded data removed]",
      "text/plain": [
       "<Figure size 432x288 with 1 Axes>"
      ]
     },
     "metadata": {
      "needs_background": "light",
      "tags": []
     },
     "output_type": "display_data"
    }
   ],
   "source": [
    "# Visualizando a relação de pétalas\n",
    "def visuvalize_petal_data():\n",
    "    X = iris.data[:, 2:]  # we only take the last two features.\n",
    "    y = iris.target\n",
    "    plt.scatter(X[:, 0], X[:, 1], c=y)\n",
    "    plt.xlabel('Comprimento')\n",
    "    plt.ylabel('Largura')\n",
    "    plt.title('Pétala')\n",
    "    plt.show()\n",
    " \n",
    "visuvalize_petal_data()"
   ]
  },
  {
   "cell_type": "markdown",
   "metadata": {
    "id": "Zu2NE1nJcBHk"
   },
   "source": [
    "## Separando dados de X e y"
   ]
  },
  {
   "cell_type": "code",
   "execution_count": 29,
   "metadata": {
    "colab": {
     "base_uri": "https://localhost:8080/"
    },
    "executionInfo": {
     "elapsed": 1629,
     "status": "ok",
     "timestamp": 1607697936514,
     "user": {
      "displayName": "Samara de Jesus Duarte",
      "photoUrl": "",
      "userId": "06237302674846274131"
     },
     "user_tz": 180
    },
    "id": "uLevJYH7aW7j",
    "outputId": "6c902d24-2f14-4710-9675-ed8f752ec51b"
   },
   "outputs": [
    {
     "name": "stdout",
     "output_type": "stream",
     "text": [
      "(150, 4)\n",
      "(150,)\n"
     ]
    }
   ],
   "source": [
    "# Vamos separar as variáveis (X) do resultado (y)\n",
    "X = df.iloc[:,:-2]\n",
    "y = df['Target'].values\n",
    "# Imprimindo o Shape de X e y\n",
    "print(X.shape)\n",
    "print(y.shape)"
   ]
  },
  {
   "cell_type": "markdown",
   "metadata": {
    "id": "ITjytDojcExC"
   },
   "source": [
    "## Uso de SVM (Suport Vector Machine)"
   ]
  },
  {
   "cell_type": "code",
   "execution_count": 30,
   "metadata": {
    "colab": {
     "base_uri": "https://localhost:8080/"
    },
    "executionInfo": {
     "elapsed": 1621,
     "status": "ok",
     "timestamp": 1607697936515,
     "user": {
      "displayName": "Samara de Jesus Duarte",
      "photoUrl": "",
      "userId": "06237302674846274131"
     },
     "user_tz": 180
    },
    "id": "__k7flu7enzQ",
    "outputId": "3fe6f34a-0577-4d48-8251-b2c3c8c3b141"
   },
   "outputs": [
    {
     "name": "stdout",
     "output_type": "stream",
     "text": [
      "X_train: (120, 4)\n",
      "y_train: (120,)\n",
      "X_test: (30, 4)\n",
      "y_test: (30,)\n"
     ]
    }
   ],
   "source": [
    "# Separação entre os dados de treino e teste\n",
    "from sklearn.model_selection import train_test_split\n",
    "X_train, X_test, y_train, y_test = train_test_split (X , y, test_size=0.2, random_state=50)\n",
    "print('X_train:',X_train.shape)\n",
    "print('y_train:',y_train.shape)\n",
    "print('X_test:',X_test.shape)\n",
    "print('y_test:',y_test.shape)"
   ]
  },
  {
   "cell_type": "code",
   "execution_count": 30,
   "metadata": {
    "executionInfo": {
     "elapsed": 1614,
     "status": "ok",
     "timestamp": 1607697936516,
     "user": {
      "displayName": "Samara de Jesus Duarte",
      "photoUrl": "",
      "userId": "06237302674846274131"
     },
     "user_tz": 180
    },
    "id": "SHB_9VoN4Tid"
   },
   "outputs": [],
   "source": []
  },
  {
   "cell_type": "code",
   "execution_count": 30,
   "metadata": {
    "executionInfo": {
     "elapsed": 1608,
     "status": "ok",
     "timestamp": 1607697936517,
     "user": {
      "displayName": "Samara de Jesus Duarte",
      "photoUrl": "",
      "userId": "06237302674846274131"
     },
     "user_tz": 180
    },
    "id": "7HLxAth54axY"
   },
   "outputs": [],
   "source": []
  },
  {
   "cell_type": "code",
   "execution_count": 31,
   "metadata": {
    "colab": {
     "base_uri": "https://localhost:8080/"
    },
    "executionInfo": {
     "elapsed": 4136,
     "status": "ok",
     "timestamp": 1607697939051,
     "user": {
      "displayName": "Samara de Jesus Duarte",
      "photoUrl": "",
      "userId": "06237302674846274131"
     },
     "user_tz": 180
    },
    "id": "A1qxPGaV69B1",
    "outputId": "61284cd8-225c-42d1-95d0-f2e3d6408ab0"
   },
   "outputs": [
    {
     "name": "stdout",
     "output_type": "stream",
     "text": [
      "Requirement already satisfied: scikit-plot in /usr/local/lib/python3.6/dist-packages (0.3.7)\n",
      "Requirement already satisfied: joblib>=0.10 in /usr/local/lib/python3.6/dist-packages (from scikit-plot) (0.17.0)\n",
      "Requirement already satisfied: scikit-learn>=0.18 in /usr/local/lib/python3.6/dist-packages (from scikit-plot) (0.22.2.post1)\n",
      "Requirement already satisfied: scipy>=0.9 in /usr/local/lib/python3.6/dist-packages (from scikit-plot) (1.4.1)\n",
      "Requirement already satisfied: matplotlib>=1.4.0 in /usr/local/lib/python3.6/dist-packages (from scikit-plot) (3.2.2)\n",
      "Requirement already satisfied: numpy>=1.11.0 in /usr/local/lib/python3.6/dist-packages (from scikit-learn>=0.18->scikit-plot) (1.18.5)\n",
      "Requirement already satisfied: python-dateutil>=2.1 in /usr/local/lib/python3.6/dist-packages (from matplotlib>=1.4.0->scikit-plot) (2.8.1)\n",
      "Requirement already satisfied: cycler>=0.10 in /usr/local/lib/python3.6/dist-packages (from matplotlib>=1.4.0->scikit-plot) (0.10.0)\n",
      "Requirement already satisfied: kiwisolver>=1.0.1 in /usr/local/lib/python3.6/dist-packages (from matplotlib>=1.4.0->scikit-plot) (1.3.1)\n",
      "Requirement already satisfied: pyparsing!=2.0.4,!=2.1.2,!=2.1.6,>=2.0.1 in /usr/local/lib/python3.6/dist-packages (from matplotlib>=1.4.0->scikit-plot) (2.4.7)\n",
      "Requirement already satisfied: six>=1.5 in /usr/local/lib/python3.6/dist-packages (from python-dateutil>=2.1->matplotlib>=1.4.0->scikit-plot) (1.15.0)\n"
     ]
    }
   ],
   "source": [
    "!pip install scikit-plot\n",
    "from sklearn.metrics import plot_confusion_matrix\n",
    "from sklearn.metrics import accuracy_score, precision_score, recall_score, f1_score\n",
    "from scikitplot.metrics import plot_roc\n",
    "# Criando funcao para imprimir resultados\n",
    "def show_results(model, X_test, y_test):\n",
    "  # Modelo 1\n",
    "  y_pred = model.predict(X_test)\n",
    "  print('Shape y_pred:',y_pred.shape)\n",
    "  # Imprimindo o Score para os dados de teste\n",
    "  print (\"Accuracy is \", accuracy_score(y_test,y_pred)*100)\n",
    "  # Medidas de desempenho\n",
    "  print(\"Accuracy:\",accuracy_score(y_pred,y_test))\n",
    "  print(\"Precision:\",precision_score(y_pred,y_test,average='weighted'))\n",
    "  print(\"Recall:\",recall_score(y_pred,y_test,average='weighted'))\n",
    "  print(\"F1 Score:\",f1_score(y_pred,y_test,average='weighted'))\n",
    "  # Imprimindo a matriz de confusão\n",
    "  plot_confusion_matrix(model, X_test, y_test)\n",
    "  try:\n",
    "    plt.show()\n",
    "    # Plotando a curva ROC para os dados de teste\n",
    "    y_probas = model.predict_proba(X_test)\n",
    "    plot_roc(y_test, y_probas, figsize=(10, 8))   \n",
    "    plt.show()\n",
    "  except AttributeError:\n",
    "    print('ROC indisponivel')"
   ]
  },
  {
   "cell_type": "code",
   "execution_count": 32,
   "metadata": {
    "colab": {
     "base_uri": "https://localhost:8080/",
     "height": 410
    },
    "executionInfo": {
     "elapsed": 4130,
     "status": "ok",
     "timestamp": 1607697939053,
     "user": {
      "displayName": "Samara de Jesus Duarte",
      "photoUrl": "",
      "userId": "06237302674846274131"
     },
     "user_tz": 180
    },
    "id": "HMxKjtamG2lB",
    "outputId": "b2d430ad-559b-4a39-fdd1-4e5b194460b0"
   },
   "outputs": [
    {
     "name": "stdout",
     "output_type": "stream",
     "text": [
      "Shape y_pred: (30,)\n",
      "Accuracy is  93.33333333333333\n",
      "Accuracy: 0.9333333333333333\n",
      "Precision: 0.9444444444444445\n",
      "Recall: 0.9333333333333333\n",
      "F1 Score: 0.9330303030303031\n"
     ]
    },
    {
     "data": {
      "image/png": "[encoded data removed]",
      "text/plain": [
       "<Figure size 432x288 with 2 Axes>"
      ]
     },
     "metadata": {
      "needs_background": "light",
      "tags": []
     },
     "output_type": "display_data"
    },
    {
     "name": "stdout",
     "output_type": "stream",
     "text": [
      "ROC indisponivel\n"
     ]
    }
   ],
   "source": [
    "# Criando 4 modelos diferentes de SVM (Suport Vector Machine)\n",
    "svm_1 = svm.SVC(kernel='linear').fit(X_train, y_train)\n",
    "show_results(svm_1, X_test, y_test)"
   ]
  },
  {
   "cell_type": "code",
   "execution_count": 33,
   "metadata": {
    "colab": {
     "base_uri": "https://localhost:8080/",
     "height": 463
    },
    "executionInfo": {
     "elapsed": 4528,
     "status": "ok",
     "timestamp": 1607697939460,
     "user": {
      "displayName": "Samara de Jesus Duarte",
      "photoUrl": "",
      "userId": "06237302674846274131"
     },
     "user_tz": 180
    },
    "id": "wk_FSve2enro",
    "outputId": "9f192f90-648f-45d5-a6d2-97e6fa40323c"
   },
   "outputs": [
    {
     "name": "stdout",
     "output_type": "stream",
     "text": [
      "Shape y_pred: (30,)\n",
      "Accuracy is  96.66666666666667\n",
      "Accuracy: 0.9666666666666667\n",
      "Precision: 0.9694444444444444\n",
      "Recall: 0.9666666666666667\n",
      "F1 Score: 0.9665141113653699\n"
     ]
    },
    {
     "name": "stderr",
     "output_type": "stream",
     "text": [
      "/usr/local/lib/python3.6/dist-packages/sklearn/svm/_base.py:947: ConvergenceWarning: Liblinear failed to converge, increase the number of iterations.\n",
      "  \"the number of iterations.\", ConvergenceWarning)\n"
     ]
    },
    {
     "data": {
      "image/png": "[encoded data removed]",
      "text/plain": [
       "<Figure size 432x288 with 2 Axes>"
      ]
     },
     "metadata": {
      "needs_background": "light",
      "tags": []
     },
     "output_type": "display_data"
    },
    {
     "name": "stdout",
     "output_type": "stream",
     "text": [
      "ROC indisponivel\n"
     ]
    }
   ],
   "source": [
    "svm_2 = svm.LinearSVC().fit(X_train, y_train)\n",
    "show_results(svm_2, X_test, y_test)"
   ]
  },
  {
   "cell_type": "code",
   "execution_count": 34,
   "metadata": {
    "colab": {
     "base_uri": "https://localhost:8080/",
     "height": 410
    },
    "executionInfo": {
     "elapsed": 4520,
     "status": "ok",
     "timestamp": 1607697939461,
     "user": {
      "displayName": "Samara de Jesus Duarte",
      "photoUrl": "",
      "userId": "06237302674846274131"
     },
     "user_tz": 180
    },
    "id": "fwHZZcrMMx-T",
    "outputId": "27a83657-b294-4134-8e76-e6072c7051c1"
   },
   "outputs": [
    {
     "name": "stdout",
     "output_type": "stream",
     "text": [
      "Shape y_pred: (30,)\n",
      "Accuracy is  93.33333333333333\n",
      "Accuracy: 0.9333333333333333\n",
      "Precision: 0.9444444444444445\n",
      "Recall: 0.9333333333333333\n",
      "F1 Score: 0.9330303030303031\n"
     ]
    },
    {
     "data": {
      "image/png": "[encoded data removed]",
      "text/plain": [
       "<Figure size 432x288 with 2 Axes>"
      ]
     },
     "metadata": {
      "needs_background": "light",
      "tags": []
     },
     "output_type": "display_data"
    },
    {
     "name": "stdout",
     "output_type": "stream",
     "text": [
      "ROC indisponivel\n"
     ]
    }
   ],
   "source": [
    "svm_3 = svm.SVC(kernel='rbf', gamma=0.7).fit(X_train, y_train)\n",
    "show_results(svm_3, X_test, y_test)"
   ]
  },
  {
   "cell_type": "code",
   "execution_count": 35,
   "metadata": {
    "colab": {
     "base_uri": "https://localhost:8080/",
     "height": 410
    },
    "executionInfo": {
     "elapsed": 4937,
     "status": "ok",
     "timestamp": 1607697939887,
     "user": {
      "displayName": "Samara de Jesus Duarte",
      "photoUrl": "",
      "userId": "06237302674846274131"
     },
     "user_tz": 180
    },
    "id": "uVSnyKISvRQo",
    "outputId": "87f69ab0-f09f-4ec1-8f08-394a1956e4a2"
   },
   "outputs": [
    {
     "name": "stdout",
     "output_type": "stream",
     "text": [
      "Shape y_pred: (30,)\n",
      "Accuracy is  93.33333333333333\n",
      "Accuracy: 0.9333333333333333\n",
      "Precision: 0.9444444444444445\n",
      "Recall: 0.9333333333333333\n",
      "F1 Score: 0.9330303030303031\n"
     ]
    },
    {
     "data": {
      "image/png": "[encoded data removed]",
      "text/plain": [
       "<Figure size 432x288 with 2 Axes>"
      ]
     },
     "metadata": {
      "needs_background": "light",
      "tags": []
     },
     "output_type": "display_data"
    },
    {
     "name": "stdout",
     "output_type": "stream",
     "text": [
      "ROC indisponivel\n"
     ]
    }
   ],
   "source": [
    "svm_4 = svm.SVC(kernel='poly', degree=3).fit(X_train, y_train)\n",
    "show_results(svm_4, X_test, y_test)"
   ]
  },
  {
   "cell_type": "markdown",
   "metadata": {
    "id": "XgmDAI4GyGCw"
   },
   "source": [
    "## Uso de Naive Bayes"
   ]
  },
  {
   "cell_type": "code",
   "execution_count": 36,
   "metadata": {
    "colab": {
     "base_uri": "https://localhost:8080/",
     "height": 884
    },
    "executionInfo": {
     "elapsed": 5421,
     "status": "ok",
     "timestamp": 1607697940382,
     "user": {
      "displayName": "Samara de Jesus Duarte",
      "photoUrl": "",
      "userId": "06237302674846274131"
     },
     "user_tz": 180
    },
    "id": "RbNpCbC_xpn4",
    "outputId": "56fa3d43-cd44-4e2f-bf0c-d4e18552ae33"
   },
   "outputs": [
    {
     "name": "stdout",
     "output_type": "stream",
     "text": [
      "Shape y_pred: (30,)\n",
      "Accuracy is  96.66666666666667\n",
      "Accuracy: 0.9666666666666667\n",
      "Precision: 0.9694444444444444\n",
      "Recall: 0.9666666666666667\n",
      "F1 Score: 0.9665141113653699\n"
     ]
    },
    {
     "data": {
      "image/png": "[encoded data removed]",
      "text/plain": [
       "<Figure size 432x288 with 2 Axes>"
      ]
     },
     "metadata": {
      "needs_background": "light",
      "tags": []
     },
     "output_type": "display_data"
    },
    {
     "data": {
      "image/png": "[encoded data removed]",
      "text/plain": [
       "<Figure size 720x576 with 1 Axes>"
      ]
     },
     "metadata": {
      "needs_background": "light",
      "tags": []
     },
     "output_type": "display_data"
    }
   ],
   "source": [
    "# Agora vamos comparar com Naive Bayes\n",
    "from sklearn.naive_bayes import GaussianNB\n",
    "nb = GaussianNB().fit(X, y)\n",
    "show_results(nb, X_test, y_test)"
   ]
  },
  {
   "cell_type": "markdown",
   "metadata": {
    "id": "z3K_PJ0lNGMb"
   },
   "source": [
    "# Exercício SVM e Naive Bayes\n",
    "\n",
    "Neste exercício vamos utilizar SVM e Naive Bayes para problemas de classificação.\n",
    "\n",
    "Aplique SVM e Naive Bayes para os datasets Wine e Câncer de mama;\n",
    "\n",
    "Gere dois novos notebooks com as respostas:\n",
    "\n",
    "* **SVM_Naive_Bayes_01.ipynb** (dataset wine)\n",
    "* **SVM_Naive_Bayes_02.ipynb** (dataset câncer de mama)\n"
   ]
  },
  {
   "cell_type": "markdown",
   "metadata": {
    "id": "zC7ziscPE0qi"
   },
   "source": [
    "FIM"
   ]
  }
 ],
 "metadata": {
  "colab": {
   "collapsed_sections": [],
   "name": "Aula05_Parte3_SVM_Naive_Bayes.ipynb",
   "provenance": []
  },
  "kernelspec": {
   "display_name": "Python 3",
   "language": "python",
   "name": "python3"
  },
  "language_info": {
   "codemirror_mode": {
    "name": "ipython",
    "version": 3
   },
   "file_extension": ".py",
   "mimetype": "text/x-python",
   "name": "python",
   "nbconvert_exporter": "python",
   "pygments_lexer": "ipython3",
   "version": "3.8.5"
  }
 },
 "nbformat": 4,
 "nbformat_minor": 1
}
